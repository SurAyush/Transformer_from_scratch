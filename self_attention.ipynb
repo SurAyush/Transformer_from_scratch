{
 "cells": [
  {
   "cell_type": "code",
   "execution_count": 2,
   "metadata": {},
   "outputs": [],
   "source": [
    "import torch"
   ]
  },
  {
   "cell_type": "code",
   "execution_count": 4,
   "metadata": {},
   "outputs": [],
   "source": [
    "# we will take 12 words's embedding as the input for attention\n",
    "# attention_score = softmax(q @ k.T / root(dk) + M)\n",
    "# q = query, k = key, dk = dimension of key, v: value\n",
    "# x_new = attention_score @ v\n",
    "# M: masking matrix\n",
    "\n",
    "c = 16   # dimension of word embedding\n",
    "b = 4    # batch size\n",
    "t = 12   # sequence length\n",
    "dk = 16  # dimension of key, query, value"
   ]
  },
  {
   "cell_type": "code",
   "execution_count": 5,
   "metadata": {},
   "outputs": [],
   "source": [
    "# generating random qkv\n",
    "q = torch.randn(b, t, dk)\n",
    "k = torch.randn(b, t, dk)\n",
    "v = torch.randn(b, t, c)"
   ]
  },
  {
   "cell_type": "code",
   "execution_count": 77,
   "metadata": {},
   "outputs": [
    {
     "name": "stdout",
     "output_type": "stream",
     "text": [
      "tensor([12, 15, 18])\n"
     ]
    }
   ],
   "source": [
    "matrix = torch.tensor([[1, 2, 3],\n",
    "                       [4, 5, 6],\n",
    "                       [7, 8, 9]])\n",
    "\n",
    "# dim=0 means column-wise sum (dim=0 means we have to reduce dimension 0(row) to find sum hence column-wise)\n",
    "print(torch.sum(matrix, dim=0))"
   ]
  },
  {
   "cell_type": "code",
   "execution_count": 18,
   "metadata": {},
   "outputs": [
    {
     "data": {
      "text/plain": [
       "tensor([[1., -inf, -inf, -inf, -inf, -inf, -inf, -inf, -inf, -inf, -inf, -inf],\n",
       "        [1., 1., -inf, -inf, -inf, -inf, -inf, -inf, -inf, -inf, -inf, -inf],\n",
       "        [1., 1., 1., -inf, -inf, -inf, -inf, -inf, -inf, -inf, -inf, -inf],\n",
       "        [1., 1., 1., 1., -inf, -inf, -inf, -inf, -inf, -inf, -inf, -inf],\n",
       "        [1., 1., 1., 1., 1., -inf, -inf, -inf, -inf, -inf, -inf, -inf],\n",
       "        [1., 1., 1., 1., 1., 1., -inf, -inf, -inf, -inf, -inf, -inf],\n",
       "        [1., 1., 1., 1., 1., 1., 1., -inf, -inf, -inf, -inf, -inf],\n",
       "        [1., 1., 1., 1., 1., 1., 1., 1., -inf, -inf, -inf, -inf],\n",
       "        [1., 1., 1., 1., 1., 1., 1., 1., 1., -inf, -inf, -inf],\n",
       "        [1., 1., 1., 1., 1., 1., 1., 1., 1., 1., -inf, -inf],\n",
       "        [1., 1., 1., 1., 1., 1., 1., 1., 1., 1., 1., -inf],\n",
       "        [1., 1., 1., 1., 1., 1., 1., 1., 1., 1., 1., 1.]])"
      ]
     },
     "execution_count": 18,
     "metadata": {},
     "output_type": "execute_result"
    }
   ],
   "source": [
    "M = torch.zeros(t, t)\n",
    "# for masked input, we set the value to -inf\n",
    "mask = torch.tril(torch.ones(t, t))\n",
    "# Convert to mask with -inf above the diagonal and 0 below\n",
    "lookahead_mask = mask.masked_fill(mask == 0, float('-inf'))  # -inf for the upper triangle\n",
    "lookahead_mask"
   ]
  },
  {
   "cell_type": "code",
   "execution_count": 22,
   "metadata": {},
   "outputs": [
    {
     "data": {
      "text/plain": [
       "tensor([[[1.0000, 0.0000, 0.0000, 0.0000, 0.0000, 0.0000, 0.0000, 0.0000,\n",
       "          0.0000, 0.0000, 0.0000, 0.0000],\n",
       "         [0.4404, 0.5596, 0.0000, 0.0000, 0.0000, 0.0000, 0.0000, 0.0000,\n",
       "          0.0000, 0.0000, 0.0000, 0.0000],\n",
       "         [0.7662, 0.1761, 0.0577, 0.0000, 0.0000, 0.0000, 0.0000, 0.0000,\n",
       "          0.0000, 0.0000, 0.0000, 0.0000],\n",
       "         [0.3115, 0.4673, 0.1697, 0.0515, 0.0000, 0.0000, 0.0000, 0.0000,\n",
       "          0.0000, 0.0000, 0.0000, 0.0000],\n",
       "         [0.1552, 0.2121, 0.2124, 0.3224, 0.0978, 0.0000, 0.0000, 0.0000,\n",
       "          0.0000, 0.0000, 0.0000, 0.0000],\n",
       "         [0.2247, 0.1283, 0.3466, 0.1531, 0.1072, 0.0402, 0.0000, 0.0000,\n",
       "          0.0000, 0.0000, 0.0000, 0.0000],\n",
       "         [0.1419, 0.1254, 0.1083, 0.1446, 0.3183, 0.1587, 0.0027, 0.0000,\n",
       "          0.0000, 0.0000, 0.0000, 0.0000],\n",
       "         [0.0432, 0.0826, 0.0306, 0.1073, 0.0586, 0.0251, 0.5862, 0.0663,\n",
       "          0.0000, 0.0000, 0.0000, 0.0000],\n",
       "         [0.2623, 0.0666, 0.0101, 0.2658, 0.0422, 0.0547, 0.0163, 0.2446,\n",
       "          0.0375, 0.0000, 0.0000, 0.0000],\n",
       "         [0.0337, 0.1050, 0.0227, 0.1019, 0.0714, 0.0791, 0.3292, 0.1257,\n",
       "          0.0796, 0.0519, 0.0000, 0.0000],\n",
       "         [0.0896, 0.2609, 0.0300, 0.0461, 0.2117, 0.0223, 0.0891, 0.0627,\n",
       "          0.0423, 0.1092, 0.0361, 0.0000],\n",
       "         [0.0440, 0.2330, 0.0721, 0.0189, 0.0652, 0.0303, 0.0574, 0.0097,\n",
       "          0.1823, 0.0346, 0.0410, 0.2116]],\n",
       "\n",
       "        [[1.0000, 0.0000, 0.0000, 0.0000, 0.0000, 0.0000, 0.0000, 0.0000,\n",
       "          0.0000, 0.0000, 0.0000, 0.0000],\n",
       "         [0.3421, 0.6579, 0.0000, 0.0000, 0.0000, 0.0000, 0.0000, 0.0000,\n",
       "          0.0000, 0.0000, 0.0000, 0.0000],\n",
       "         [0.5252, 0.2987, 0.1761, 0.0000, 0.0000, 0.0000, 0.0000, 0.0000,\n",
       "          0.0000, 0.0000, 0.0000, 0.0000],\n",
       "         [0.3369, 0.0932, 0.4477, 0.1222, 0.0000, 0.0000, 0.0000, 0.0000,\n",
       "          0.0000, 0.0000, 0.0000, 0.0000],\n",
       "         [0.1624, 0.5602, 0.0860, 0.1078, 0.0835, 0.0000, 0.0000, 0.0000,\n",
       "          0.0000, 0.0000, 0.0000, 0.0000],\n",
       "         [0.0761, 0.0691, 0.1374, 0.3102, 0.0421, 0.3651, 0.0000, 0.0000,\n",
       "          0.0000, 0.0000, 0.0000, 0.0000],\n",
       "         [0.1743, 0.0329, 0.0874, 0.1922, 0.0295, 0.2840, 0.1997, 0.0000,\n",
       "          0.0000, 0.0000, 0.0000, 0.0000],\n",
       "         [0.0053, 0.0353, 0.0693, 0.2827, 0.2700, 0.1534, 0.1315, 0.0524,\n",
       "          0.0000, 0.0000, 0.0000, 0.0000],\n",
       "         [0.0594, 0.0070, 0.4484, 0.0749, 0.0338, 0.0138, 0.0416, 0.0115,\n",
       "          0.3097, 0.0000, 0.0000, 0.0000],\n",
       "         [0.0376, 0.0914, 0.0424, 0.0768, 0.1018, 0.0464, 0.0645, 0.5099,\n",
       "          0.0235, 0.0056, 0.0000, 0.0000],\n",
       "         [0.0495, 0.0323, 0.0921, 0.1396, 0.0604, 0.0938, 0.1689, 0.1431,\n",
       "          0.1471, 0.0149, 0.0585, 0.0000],\n",
       "         [0.0115, 0.0048, 0.0074, 0.0019, 0.0025, 0.0652, 0.0013, 0.0015,\n",
       "          0.0335, 0.5316, 0.0677, 0.2711]],\n",
       "\n",
       "        [[1.0000, 0.0000, 0.0000, 0.0000, 0.0000, 0.0000, 0.0000, 0.0000,\n",
       "          0.0000, 0.0000, 0.0000, 0.0000],\n",
       "         [0.9036, 0.0964, 0.0000, 0.0000, 0.0000, 0.0000, 0.0000, 0.0000,\n",
       "          0.0000, 0.0000, 0.0000, 0.0000],\n",
       "         [0.6477, 0.1700, 0.1823, 0.0000, 0.0000, 0.0000, 0.0000, 0.0000,\n",
       "          0.0000, 0.0000, 0.0000, 0.0000],\n",
       "         [0.4848, 0.0718, 0.3981, 0.0454, 0.0000, 0.0000, 0.0000, 0.0000,\n",
       "          0.0000, 0.0000, 0.0000, 0.0000],\n",
       "         [0.6834, 0.0845, 0.0968, 0.1243, 0.0109, 0.0000, 0.0000, 0.0000,\n",
       "          0.0000, 0.0000, 0.0000, 0.0000],\n",
       "         [0.1520, 0.1818, 0.1174, 0.1897, 0.1966, 0.1626, 0.0000, 0.0000,\n",
       "          0.0000, 0.0000, 0.0000, 0.0000],\n",
       "         [0.1140, 0.1509, 0.0744, 0.1548, 0.0225, 0.1784, 0.3050, 0.0000,\n",
       "          0.0000, 0.0000, 0.0000, 0.0000],\n",
       "         [0.1338, 0.1968, 0.1980, 0.1726, 0.0864, 0.0349, 0.0670, 0.1105,\n",
       "          0.0000, 0.0000, 0.0000, 0.0000],\n",
       "         [0.1255, 0.0780, 0.0667, 0.1316, 0.0805, 0.1575, 0.1659, 0.1391,\n",
       "          0.0552, 0.0000, 0.0000, 0.0000],\n",
       "         [0.0420, 0.0414, 0.0314, 0.0170, 0.0616, 0.0514, 0.0656, 0.6209,\n",
       "          0.0166, 0.0521, 0.0000, 0.0000],\n",
       "         [0.0934, 0.0589, 0.1255, 0.0488, 0.1323, 0.0607, 0.0751, 0.1540,\n",
       "          0.0649, 0.0638, 0.1227, 0.0000],\n",
       "         [0.1347, 0.0602, 0.0492, 0.1938, 0.0311, 0.0500, 0.0611, 0.0423,\n",
       "          0.1381, 0.1177, 0.0888, 0.0329]],\n",
       "\n",
       "        [[1.0000, 0.0000, 0.0000, 0.0000, 0.0000, 0.0000, 0.0000, 0.0000,\n",
       "          0.0000, 0.0000, 0.0000, 0.0000],\n",
       "         [0.9941, 0.0059, 0.0000, 0.0000, 0.0000, 0.0000, 0.0000, 0.0000,\n",
       "          0.0000, 0.0000, 0.0000, 0.0000],\n",
       "         [0.0764, 0.1713, 0.7523, 0.0000, 0.0000, 0.0000, 0.0000, 0.0000,\n",
       "          0.0000, 0.0000, 0.0000, 0.0000],\n",
       "         [0.1250, 0.3536, 0.1208, 0.4005, 0.0000, 0.0000, 0.0000, 0.0000,\n",
       "          0.0000, 0.0000, 0.0000, 0.0000],\n",
       "         [0.0817, 0.1149, 0.6095, 0.1700, 0.0239, 0.0000, 0.0000, 0.0000,\n",
       "          0.0000, 0.0000, 0.0000, 0.0000],\n",
       "         [0.0548, 0.2625, 0.1607, 0.3075, 0.0736, 0.1409, 0.0000, 0.0000,\n",
       "          0.0000, 0.0000, 0.0000, 0.0000],\n",
       "         [0.2268, 0.1785, 0.1896, 0.1584, 0.0951, 0.0928, 0.0588, 0.0000,\n",
       "          0.0000, 0.0000, 0.0000, 0.0000],\n",
       "         [0.1047, 0.0284, 0.2499, 0.5439, 0.0258, 0.0131, 0.0223, 0.0119,\n",
       "          0.0000, 0.0000, 0.0000, 0.0000],\n",
       "         [0.3626, 0.0164, 0.0746, 0.1840, 0.0364, 0.0343, 0.0290, 0.1088,\n",
       "          0.1540, 0.0000, 0.0000, 0.0000],\n",
       "         [0.4895, 0.0385, 0.0199, 0.0096, 0.0152, 0.1786, 0.0520, 0.0579,\n",
       "          0.0995, 0.0392, 0.0000, 0.0000],\n",
       "         [0.2415, 0.0314, 0.0497, 0.0215, 0.0671, 0.1912, 0.1157, 0.0335,\n",
       "          0.0675, 0.1371, 0.0438, 0.0000],\n",
       "         [0.0230, 0.1015, 0.1241, 0.1791, 0.0370, 0.0206, 0.0936, 0.0420,\n",
       "          0.0460, 0.3018, 0.0122, 0.0192]]])"
      ]
     },
     "execution_count": 22,
     "metadata": {},
     "output_type": "execute_result"
    }
   ],
   "source": [
    "# transpose while keeping batch dimesion aside\n",
    "# dim: -1 means the last dimension for softmax (row-wise)\n",
    "attention_score = torch.softmax(q @ k.transpose(1, 2) / (dk ** 0.5) + lookahead_mask, dim=-1)\n",
    "attention_score"
   ]
  },
  {
   "cell_type": "code",
   "execution_count": 23,
   "metadata": {},
   "outputs": [
    {
     "data": {
      "text/plain": [
       "tensor([[[-1.8987e-01, -3.6762e-01, -4.0130e-01,  9.1304e-01, -1.2901e+00,\n",
       "           1.1330e+00, -9.4934e-01,  1.4501e+00,  2.0162e+00,  5.1108e-01,\n",
       "          -3.9820e-01, -1.1240e+00, -2.2025e-01,  1.3185e-01, -5.4909e-01,\n",
       "           1.4448e+00],\n",
       "         [-9.1582e-01, -7.1349e-01, -1.0895e+00,  9.7827e-01,  2.8869e-01,\n",
       "          -6.2276e-01, -7.3629e-01,  3.3440e-01,  1.1609e+00,  3.0013e-01,\n",
       "          -4.1741e-02, -5.9999e-01,  1.9257e-01, -7.9097e-01,  2.9768e-01,\n",
       "           7.9986e-01],\n",
       "         [-2.9783e-01, -4.5048e-01, -6.1011e-01,  8.4934e-01, -7.5715e-01,\n",
       "           4.7454e-01, -8.4245e-01,  1.1392e+00,  1.6208e+00,  3.9958e-01,\n",
       "          -2.5993e-01, -8.9800e-01, -5.2969e-02, -2.2669e-01, -3.5180e-01,\n",
       "           1.2150e+00],\n",
       "         [-4.6204e-01, -5.9353e-01, -1.0379e+00,  6.7314e-01,  1.2360e-01,\n",
       "          -6.3122e-01, -6.1380e-01,  6.8501e-01,  8.2316e-01,  2.1060e-01,\n",
       "          -9.5281e-03, -4.8987e-01,  2.3065e-01, -9.0163e-01, -4.5902e-03,\n",
       "           7.4851e-01],\n",
       "         [-1.2719e-01, -4.9628e-01, -9.6167e-01,  1.1943e-01, -4.9516e-01,\n",
       "          -8.7461e-02, -5.3319e-01,  1.4098e+00,  2.0997e-01,  4.7954e-01,\n",
       "          -6.8707e-02, -4.5470e-01,  7.7729e-02, -9.1117e-01, -2.8746e-01,\n",
       "           4.6734e-01],\n",
       "         [ 3.6199e-01, -3.0453e-01, -5.1068e-01,  2.1117e-02, -5.4009e-01,\n",
       "          -2.5772e-01, -5.2609e-01,  1.4308e+00,  3.2341e-01,  3.6207e-01,\n",
       "          -1.2032e-01, -3.2518e-01,  1.3857e-01, -7.2715e-01, -6.6841e-01,\n",
       "           6.3214e-01],\n",
       "         [ 1.3268e-02, -3.1938e-01,  9.0292e-03, -1.7028e-01, -2.3341e-01,\n",
       "          -7.0185e-01, -5.8332e-01,  8.9248e-01, -3.1544e-03,  8.0391e-01,\n",
       "          -2.5202e-01,  3.8368e-02,  1.0040e-01, -5.2861e-01, -3.8718e-01,\n",
       "           1.1162e-01],\n",
       "         [ 1.5987e-01, -2.8485e-01,  7.3460e-02, -2.3043e-01, -9.0365e-02,\n",
       "           6.3014e-01, -4.0728e-01,  1.7372e-01,  3.1070e-01,  7.5384e-01,\n",
       "          -5.8683e-01, -8.1074e-01, -8.4653e-01,  3.2105e-01, -4.5907e-01,\n",
       "           7.0660e-02],\n",
       "         [-2.9849e-01, -6.1866e-01, -1.0017e+00,  7.4871e-01, -5.2347e-01,\n",
       "           6.7214e-01, -6.1190e-01,  9.7099e-01,  4.7070e-01,  6.2241e-01,\n",
       "          -3.1503e-01, -7.1249e-01, -4.6624e-01,  4.7470e-02,  4.3617e-02,\n",
       "           5.7653e-01],\n",
       "         [-7.8802e-03, -3.8211e-01, -2.1400e-01, -7.9134e-02,  5.0889e-02,\n",
       "           2.4803e-01, -3.2678e-01,  1.7773e-01,  2.7619e-01,  6.2526e-01,\n",
       "          -3.8633e-01, -4.8353e-01, -5.5808e-01,  1.3877e-01, -1.1221e-01,\n",
       "           1.7002e-01],\n",
       "         [-3.4432e-01, -4.7537e-01, -1.7725e-01, -1.4065e-01,  2.7070e-01,\n",
       "          -5.3228e-01, -5.5044e-01,  3.0875e-01,  9.2390e-02,  6.1562e-01,\n",
       "          -8.8570e-02, -2.1033e-01, -1.2244e-01, -3.6897e-01, -1.8872e-01,\n",
       "           3.7549e-01],\n",
       "         [ 3.6900e-03, -3.2638e-01, -7.4830e-01, -2.9458e-01,  2.4356e-01,\n",
       "          -5.3872e-01, -5.1900e-01, -2.9627e-01, -1.1260e-01,  4.8378e-01,\n",
       "           2.6703e-01, -4.0091e-01, -1.3305e-01, -6.0731e-01,  1.2706e-02,\n",
       "           2.6371e-01]],\n",
       "\n",
       "        [[-2.3411e+00, -3.3561e-01,  9.1300e-01, -1.6952e+00, -8.2889e-01,\n",
       "           1.7007e-01,  6.0592e-01,  7.7890e-01,  5.4240e-02,  8.0224e-02,\n",
       "          -2.0033e-01,  6.2529e-02, -1.5623e+00, -1.1538e+00, -1.3983e-01,\n",
       "          -1.8129e+00],\n",
       "         [-1.3498e+00, -1.3309e+00,  8.0558e-02, -8.0250e-01, -3.6951e-01,\n",
       "          -3.1929e-01,  9.5319e-01,  1.4183e+00,  1.0291e-01, -3.0434e-01,\n",
       "          -6.4737e-01,  1.4607e-01, -6.8649e-01,  3.0431e-01, -5.5974e-01,\n",
       "          -1.5622e+00],\n",
       "         [-1.3982e+00, -6.4528e-01,  5.4468e-01, -8.9388e-01, -6.5040e-01,\n",
       "          -1.9339e-01,  5.5697e-01,  1.0084e+00,  1.0015e-01,  9.6813e-03,\n",
       "          -1.8025e-01,  1.3844e-01, -7.5251e-01, -1.6028e-01, -4.7762e-01,\n",
       "          -1.4275e+00],\n",
       "         [-7.4828e-01,  2.2462e-02,  5.3130e-01, -4.9967e-01, -7.8296e-01,\n",
       "          -2.9486e-01, -1.9774e-01,  5.5093e-01,  1.6631e-01,  2.8547e-01,\n",
       "           4.2832e-01, -5.1866e-02, -1.7959e-01,  1.5101e-01, -5.7241e-01,\n",
       "          -1.0138e+00],\n",
       "         [-8.1347e-01, -1.0719e+00, -9.9158e-02, -4.8550e-01, -3.1513e-01,\n",
       "          -4.0327e-01,  6.5178e-01,  1.0739e+00, -5.9632e-03, -3.0071e-01,\n",
       "          -2.8760e-01,  8.0737e-02, -1.9406e-01,  4.9786e-01, -4.9613e-01,\n",
       "          -1.2616e+00],\n",
       "         [-5.6725e-01, -5.7892e-02, -7.0054e-01, -5.7094e-01,  4.7421e-02,\n",
       "          -4.2935e-01, -2.9269e-01, -3.6343e-01,  3.8247e-01, -5.4176e-01,\n",
       "           4.8904e-01, -4.4884e-01, -2.2733e-01, -8.3465e-02,  8.8336e-02,\n",
       "          -3.8219e-01],\n",
       "         [-3.8973e-01, -2.9381e-01, -3.2628e-01, -6.4560e-01, -1.7758e-01,\n",
       "          -2.5189e-01, -1.9392e-01, -4.4975e-01,  7.6294e-01, -2.7368e-01,\n",
       "           4.6120e-01, -3.0356e-01, -3.5104e-01, -3.3532e-01,  1.7630e-01,\n",
       "          -3.9736e-01],\n",
       "         [ 1.2219e-01, -4.6968e-01, -3.5091e-01, -3.3528e-01, -9.9012e-02,\n",
       "          -3.5854e-01, -1.7188e-02, -4.2215e-01, -5.6666e-02, -3.4432e-01,\n",
       "           6.5043e-01, -1.0809e-01,  4.0356e-01,  2.1538e-02,  3.4441e-01,\n",
       "          -2.6176e-01],\n",
       "         [-1.4549e-01, -2.3740e-01,  1.4970e-01, -3.7690e-01, -3.1488e-01,\n",
       "          -4.9618e-01, -8.0445e-01, -1.5303e-01, -2.7926e-02,  9.1909e-01,\n",
       "           1.0340e+00,  2.0799e-01,  3.5338e-01, -1.1466e-01, -4.6961e-01,\n",
       "           7.1206e-01],\n",
       "         [-1.5201e-02, -1.4068e+00,  6.2534e-01, -1.1975e+00, -3.0951e-01,\n",
       "          -5.3494e-01, -4.5743e-01,  7.6292e-02, -1.4230e+00,  5.3416e-01,\n",
       "           5.3923e-01, -1.9784e-01,  9.4122e-01,  1.2106e+00,  9.9178e-01,\n",
       "           4.9684e-01],\n",
       "         [-3.7560e-02, -6.6626e-01, -4.5409e-02, -8.1845e-01, -1.7009e-01,\n",
       "          -4.1471e-01, -5.9860e-01, -3.7404e-01, -4.6676e-02,  4.4351e-01,\n",
       "           7.1875e-01, -1.9006e-01,  2.1440e-01,  1.4032e-01,  2.7458e-01,\n",
       "           4.8186e-01],\n",
       "         [-6.9087e-02, -3.7314e-01, -3.5351e-01, -5.8937e-01, -1.0211e+00,\n",
       "           3.5260e-01,  7.5425e-01, -1.1556e+00,  5.0296e-01,  8.3211e-01,\n",
       "           1.2065e-01, -2.9152e-01, -1.1197e+00, -2.9430e-01, -3.4366e-02,\n",
       "           7.4980e-01]],\n",
       "\n",
       "        [[-5.1867e-01, -1.3856e+00, -1.1380e+00, -9.3649e-01,  1.7309e-01,\n",
       "           5.3638e-01,  1.7714e-01, -1.7541e+00,  2.0838e+00,  2.7838e-01,\n",
       "          -9.5518e-02,  2.2436e-01,  1.4498e+00, -5.5421e-01,  7.3424e-01,\n",
       "          -1.3876e+00],\n",
       "         [-5.6894e-01, -1.2093e+00, -1.2091e+00, -8.2622e-01,  1.0052e-01,\n",
       "           5.8764e-01,  2.0855e-01, -1.7759e+00,  1.8238e+00,  2.9110e-01,\n",
       "          -1.0878e-01,  3.7175e-01,  1.3630e+00, -5.5044e-01,  6.5873e-01,\n",
       "          -1.2272e+00],\n",
       "         [-5.8715e-01, -8.3635e-01, -9.6974e-01, -4.5609e-01,  1.0970e-01,\n",
       "           9.0588e-01,  3.8812e-01, -1.5392e+00,  1.3182e+00,  2.0312e-01,\n",
       "          -2.7078e-01,  6.4782e-01,  1.0560e+00, -7.0033e-01,  8.9219e-01,\n",
       "          -7.7068e-01],\n",
       "         [-5.8045e-01, -6.7534e-01, -4.7084e-01, -1.8672e-01,  1.8829e-01,\n",
       "           1.1550e+00,  5.6747e-01, -1.1687e+00,  1.0776e+00,  9.7868e-05,\n",
       "          -4.0144e-01,  7.7910e-01,  7.6314e-01, -8.2367e-01,  1.3050e+00,\n",
       "          -4.8379e-01],\n",
       "         [-7.3540e-01, -9.0752e-01, -7.9186e-01, -5.7205e-01, -4.3218e-02,\n",
       "           6.3290e-01,  3.7476e-01, -1.5055e+00,  1.2885e+00,  2.9764e-02,\n",
       "          -9.0886e-02,  6.7524e-01,  9.6842e-01, -4.7952e-01,  7.8209e-01,\n",
       "          -9.0869e-01],\n",
       "         [-7.7131e-01,  2.2572e-01, -2.8114e-01, -2.3246e-01, -1.1649e-01,\n",
       "           4.6584e-01,  7.1649e-01, -9.5786e-01,  3.9924e-01, -3.3026e-01,\n",
       "          -2.2954e-01,  5.9200e-01,  4.5907e-01, -4.3435e-01,  3.1808e-01,\n",
       "          -2.7490e-01],\n",
       "         [-7.1719e-01,  1.1086e-01, -6.0155e-01,  2.1179e-02, -1.6581e-01,\n",
       "           6.1143e-01,  7.2128e-01, -3.3503e-01,  4.6055e-01, -9.6602e-02,\n",
       "          -3.5634e-01, -1.0990e-01,  3.8083e-02, -9.7205e-02,  2.7814e-01,\n",
       "          -1.1987e-01],\n",
       "         [-9.7608e-01, -6.3208e-02, -4.7065e-02, -4.1137e-02, -1.3070e-01,\n",
       "           5.5288e-01,  6.9985e-01, -6.9687e-01,  3.2570e-01, -9.2595e-02,\n",
       "          -2.9399e-01,  5.6424e-01,  3.4503e-01, -5.7013e-01,  4.7753e-01,\n",
       "           2.0944e-02],\n",
       "         [-7.8321e-01, -2.9597e-02, -1.6206e-01, -1.4809e-01,  4.4987e-03,\n",
       "           3.6491e-01,  6.7598e-01, -1.3599e-01,  6.7788e-01, -6.3927e-02,\n",
       "          -3.7585e-01, -2.2584e-01,  3.0757e-01, -3.0796e-01,  7.9593e-02,\n",
       "          -9.9961e-02],\n",
       "         [-1.4471e+00, -7.0966e-01,  8.0772e-01, -6.8923e-02,  1.2747e-02,\n",
       "          -4.0533e-01,  4.2270e-01,  9.1426e-01,  9.4776e-01,  3.9204e-01,\n",
       "          -5.8250e-01, -1.2398e+00,  9.3359e-01, -7.2926e-01, -5.0642e-01,\n",
       "           6.4282e-01],\n",
       "         [-7.0935e-01,  7.5616e-02,  1.2288e-01, -1.2899e-01,  1.3904e-01,\n",
       "           2.3849e-01,  4.6694e-01, -7.5746e-02,  5.7680e-01, -7.9886e-02,\n",
       "          -3.5091e-01, -1.5639e-01,  2.6598e-01, -6.6852e-01, -1.0142e-01,\n",
       "          -2.1045e-02],\n",
       "         [-7.1836e-01,  2.2457e-02, -1.9101e-01, -1.4898e-01, -5.7080e-02,\n",
       "           2.6696e-01,  3.4336e-01, -2.8763e-01,  3.7768e-01, -1.9982e-01,\n",
       "          -3.9377e-02,  4.0865e-01,  5.2004e-02, -1.8492e-01, -6.3260e-02,\n",
       "          -3.6317e-01]],\n",
       "\n",
       "        [[ 1.4652e+00,  5.2065e-01,  1.6651e-02,  5.9201e-01, -3.1049e-01,\n",
       "          -3.7434e-01,  7.7725e-01,  1.5290e+00,  8.5251e-01,  1.2803e-01,\n",
       "           4.6243e-01, -9.9557e-01, -2.7665e-01, -1.9390e+00,  2.0218e+00,\n",
       "           4.5100e-01],\n",
       "         [ 1.4522e+00,  5.2648e-01,  1.8337e-02,  5.9075e-01, -3.1258e-01,\n",
       "          -3.7207e-01,  7.8550e-01,  1.5228e+00,  8.5393e-01,  1.3136e-01,\n",
       "           4.5505e-01, -9.8547e-01, -2.7747e-01, -1.9235e+00,  2.0023e+00,\n",
       "           4.5037e-01],\n",
       "         [-6.0363e-01, -2.1451e-01,  1.9204e-01,  1.7781e-02,  2.2009e-01,\n",
       "          -1.0790e+00,  2.6346e+00,  1.2105e+00,  3.3897e-01, -1.6311e-01,\n",
       "          -7.9513e-01, -9.1026e-01,  1.3433e+00, -1.5653e+00,  2.4587e-01,\n",
       "          -2.4584e-01],\n",
       "         [ 2.5052e-01,  1.1029e+00, -6.4796e-01,  3.6062e-01, -2.6459e-01,\n",
       "           2.5265e-01,  1.4088e+00,  9.2670e-01, -8.3589e-02,  3.9129e-01,\n",
       "          -1.1078e-01,  2.7000e-01, -7.7746e-02,  3.7395e-01, -1.3539e-01,\n",
       "          -1.0445e-01],\n",
       "         [-2.5036e-01,  8.7670e-02, -1.8890e-01,  9.2260e-02,  1.2902e-01,\n",
       "          -6.6067e-01,  2.1752e+00,  1.1988e+00,  3.4790e-02, -1.0061e-01,\n",
       "          -5.5190e-01, -6.4715e-01,  1.0472e+00, -1.0880e+00,  2.5157e-01,\n",
       "          -2.7095e-01],\n",
       "         [ 9.7305e-02,  9.1618e-01, -5.6015e-01,  3.1322e-01, -2.5916e-01,\n",
       "           1.3175e-01,  1.3893e+00,  4.0383e-01,  2.4756e-02,  1.4875e-01,\n",
       "          -7.9431e-02, -6.2302e-02,  3.5810e-01,  2.3943e-01, -1.9313e-01,\n",
       "           3.7663e-02],\n",
       "         [ 1.8725e-01,  6.2481e-01, -2.7670e-01,  2.1226e-01, -2.4154e-01,\n",
       "          -6.4784e-02,  1.2808e+00,  6.8108e-01,  2.6395e-01, -3.3503e-04,\n",
       "          -1.3359e-01, -3.8264e-01,  3.8128e-01, -5.6481e-01,  1.2977e-01,\n",
       "           1.8804e-01],\n",
       "         [ 4.9250e-01,  7.7232e-01, -1.0090e+00,  2.5509e-01, -3.2655e-02,\n",
       "           2.5979e-01,  1.1276e+00,  1.0464e+00, -6.5604e-01,  1.4598e-01,\n",
       "           6.4979e-02, -2.0842e-02,  2.8799e-01,  1.1468e-01,  2.4391e-01,\n",
       "          -2.9768e-01],\n",
       "         [ 5.6296e-01,  7.1315e-01, -5.4946e-01,  3.1292e-01, -3.6448e-01,\n",
       "           2.2593e-01,  6.6740e-01,  8.6895e-01, -3.9470e-01, -1.5826e-01,\n",
       "           4.9088e-02, -5.2633e-01,  1.8013e-02, -4.0562e-01,  6.0573e-01,\n",
       "           1.3370e-01],\n",
       "         [ 5.6476e-01,  5.2390e-01, -2.3749e-01,  3.3064e-01, -3.4920e-01,\n",
       "          -1.1811e-01,  7.8800e-01,  3.6682e-01,  1.9755e-01, -9.6777e-02,\n",
       "           3.6734e-01, -9.2334e-01,  2.2879e-01, -7.8308e-01,  7.9374e-01,\n",
       "           3.7665e-01],\n",
       "         [ 7.7922e-02,  4.7067e-01, -3.7522e-01,  9.1688e-02, -4.5275e-01,\n",
       "          -9.0637e-02,  7.1136e-01,  1.0453e-01, -2.2268e-03, -1.1103e-01,\n",
       "           4.1345e-01, -8.1268e-01,  5.1054e-01, -5.7328e-01,  7.1370e-02,\n",
       "           3.4934e-01],\n",
       "         [-3.4891e-02,  7.8673e-01, -6.9327e-01,  2.8292e-02, -5.6613e-01,\n",
       "          -2.6052e-01,  9.3917e-01,  5.4807e-01, -4.5513e-01,  1.6042e-01,\n",
       "           3.6398e-01, -3.7463e-01,  3.9449e-01, -1.5334e-01, -5.0700e-01,\n",
       "          -7.4708e-02]]])"
      ]
     },
     "execution_count": 23,
     "metadata": {},
     "output_type": "execute_result"
    }
   ],
   "source": [
    "x_temp = attention_score @ v\n",
    "x_temp       # after attention mechanism, the output "
   ]
  },
  {
   "cell_type": "code",
   "execution_count": 13,
   "metadata": {},
   "outputs": [],
   "source": [
    "# x_new = LayerNorm(x_temp + x)"
   ]
  },
  {
   "cell_type": "code",
   "execution_count": 24,
   "metadata": {},
   "outputs": [],
   "source": [
    "# multi-head attention\n",
    "# q, k, v are linearly projected h times with different weights\n",
    "# attention-values are concatenated\n",
    "# output is linearly projected again\n",
    "\n",
    "# casual-multi-head attention\n",
    "# carrying multi-head attention in parallel"
   ]
  },
  {
   "cell_type": "code",
   "execution_count": 26,
   "metadata": {},
   "outputs": [
    {
     "data": {
      "text/plain": [
       "torch.Size([4, 12, 48])"
      ]
     },
     "execution_count": 26,
     "metadata": {},
     "output_type": "execute_result"
    }
   ],
   "source": [
    "X = torch.randn(b, t, c)   # input\n",
    "lin_proj_1 = torch.nn.Linear (c, 3 * dk)  # linear projection (generating qkv together)\n",
    "qkv = lin_proj_1(X)\n",
    "qkv.shape"
   ]
  },
  {
   "cell_type": "code",
   "execution_count": 33,
   "metadata": {},
   "outputs": [
    {
     "data": {
      "text/plain": [
       "<BarContainer object of 200 artists>"
      ]
     },
     "execution_count": 33,
     "metadata": {},
     "output_type": "execute_result"
    },
    {
     "data": {
      "image/png": "[encoded data removed]",
      "text/plain": [
       "<Figure size 640x480 with 1 Axes>"
      ]
     },
     "metadata": {},
     "output_type": "display_data"
    }
   ],
   "source": [
    "import matplotlib.pyplot as plt\n",
    "import numpy as np\n",
    "y_val = torch.histc(qkv, bins=200, min=-3, max=3)\n",
    "x_val = np.arange(-1, 1, 0.01) * 3\n",
    "plt.bar(x_val, y_val, align='center')"
   ]
  },
  {
   "cell_type": "code",
   "execution_count": 39,
   "metadata": {},
   "outputs": [],
   "source": [
    "# near normal distribution\n",
    "# split the qkv into n_heads"
   ]
  },
  {
   "cell_type": "code",
   "execution_count": 40,
   "metadata": {},
   "outputs": [],
   "source": [
    "n_heads = 4"
   ]
  },
  {
   "cell_type": "code",
   "execution_count": 41,
   "metadata": {},
   "outputs": [
    {
     "data": {
      "text/plain": [
       "torch.Size([4, 12, 4, 12])"
      ]
     },
     "execution_count": 41,
     "metadata": {},
     "output_type": "execute_result"
    }
   ],
   "source": [
    "d = qkv.shape[-1]\n",
    "qkv = qkv.reshape(b, t, n_heads, d // n_heads)\n",
    "qkv.shape"
   ]
  },
  {
   "cell_type": "code",
   "execution_count": 45,
   "metadata": {},
   "outputs": [],
   "source": [
    "# we need to do pooling of batch_dim and head_dim and perform cal with T * C\n",
    "qkv = qkv.permute(0,2,1,3)"
   ]
  },
  {
   "cell_type": "code",
   "execution_count": 46,
   "metadata": {},
   "outputs": [],
   "source": [
    "q, k, v = torch.chunk(qkv, 3, dim=-1)    # simple split along the last dimension"
   ]
  },
  {
   "cell_type": "code",
   "execution_count": 48,
   "metadata": {},
   "outputs": [
    {
     "data": {
      "text/plain": [
       "torch.Size([4, 4, 12, 4])"
      ]
     },
     "execution_count": 48,
     "metadata": {},
     "output_type": "execute_result"
    }
   ],
   "source": [
    "# batch: 4  heads: 4 seq_len: 12 head_size:4\n",
    "# dk = n_heads * head_size\n",
    "q.shape"
   ]
  },
  {
   "cell_type": "code",
   "execution_count": 49,
   "metadata": {},
   "outputs": [],
   "source": [
    "# (B,H,T,D) @ (B,H,D,T) = (B,H,T,T)\n",
    "attention_score = torch.softmax(q @ k.transpose(-2, -1) / (dk ** 0.5), dim=-1)"
   ]
  },
  {
   "cell_type": "code",
   "execution_count": 50,
   "metadata": {},
   "outputs": [
    {
     "data": {
      "text/plain": [
       "tensor([[[[0.0929, 0.0831, 0.0714,  ..., 0.0674, 0.1031, 0.1233],\n",
       "          [0.0862, 0.0812, 0.0784,  ..., 0.0856, 0.0853, 0.0925],\n",
       "          [0.0672, 0.0649, 0.0872,  ..., 0.0943, 0.0883, 0.0864],\n",
       "          ...,\n",
       "          [0.0929, 0.0919, 0.0800,  ..., 0.0851, 0.0753, 0.0772],\n",
       "          [0.0635, 0.0749, 0.0924,  ..., 0.0950, 0.0831, 0.0767],\n",
       "          [0.0764, 0.0848, 0.0873,  ..., 0.0887, 0.0798, 0.0767]],\n",
       "\n",
       "         [[0.0934, 0.0899, 0.0793,  ..., 0.0829, 0.0694, 0.0787],\n",
       "          [0.0755, 0.0842, 0.0761,  ..., 0.0841, 0.0707, 0.0724],\n",
       "          [0.0502, 0.0663, 0.0898,  ..., 0.0856, 0.0931, 0.0754],\n",
       "          ...,\n",
       "          [0.0936, 0.0875, 0.0881,  ..., 0.0833, 0.0801, 0.0862],\n",
       "          [0.0376, 0.0694, 0.0935,  ..., 0.0925, 0.0909, 0.0625],\n",
       "          [0.0810, 0.0867, 0.0868,  ..., 0.0851, 0.0864, 0.0817]],\n",
       "\n",
       "         [[0.0660, 0.0871, 0.0852,  ..., 0.0829, 0.0724, 0.0987],\n",
       "          [0.0815, 0.0840, 0.0832,  ..., 0.0788, 0.0806, 0.0989],\n",
       "          [0.1307, 0.0857, 0.0753,  ..., 0.0669, 0.1016, 0.0706],\n",
       "          ...,\n",
       "          [0.0883, 0.0927, 0.0799,  ..., 0.0780, 0.0821, 0.0787],\n",
       "          [0.1122, 0.0835, 0.0755,  ..., 0.0751, 0.0922, 0.0736],\n",
       "          [0.0792, 0.0893, 0.0938,  ..., 0.0806, 0.0898, 0.0831]],\n",
       "\n",
       "         [[0.0833, 0.0833, 0.0860,  ..., 0.0824, 0.0854, 0.0812],\n",
       "          [0.0823, 0.0758, 0.0967,  ..., 0.0861, 0.0781, 0.0720],\n",
       "          [0.0693, 0.0781, 0.0896,  ..., 0.0871, 0.0737, 0.0962],\n",
       "          ...,\n",
       "          [0.0746, 0.0744, 0.1089,  ..., 0.0863, 0.0891, 0.0782],\n",
       "          [0.1233, 0.0996, 0.0390,  ..., 0.0791, 0.0718, 0.0848],\n",
       "          [0.0942, 0.0691, 0.0796,  ..., 0.0961, 0.0583, 0.0657]]],\n",
       "\n",
       "\n",
       "        [[[0.0674, 0.0813, 0.0684,  ..., 0.0932, 0.0966, 0.0820],\n",
       "          [0.0808, 0.0823, 0.0890,  ..., 0.0806, 0.0812, 0.0827],\n",
       "          [0.1004, 0.0813, 0.0946,  ..., 0.0772, 0.0709, 0.0862],\n",
       "          ...,\n",
       "          [0.0988, 0.0828, 0.1012,  ..., 0.0743, 0.0699, 0.0853],\n",
       "          [0.0714, 0.1006, 0.0696,  ..., 0.0848, 0.1067, 0.0745],\n",
       "          [0.0643, 0.1070, 0.0687,  ..., 0.0888, 0.1121, 0.0787]],\n",
       "\n",
       "         [[0.0625, 0.0969, 0.0783,  ..., 0.1034, 0.0953, 0.0943],\n",
       "          [0.0954, 0.0688, 0.0807,  ..., 0.0691, 0.0830, 0.0648],\n",
       "          [0.0754, 0.1103, 0.0877,  ..., 0.0856, 0.0783, 0.0915],\n",
       "          ...,\n",
       "          [0.0877, 0.0800, 0.0818,  ..., 0.0753, 0.0853, 0.0785],\n",
       "          [0.0890, 0.0633, 0.0777,  ..., 0.0716, 0.0882, 0.0503],\n",
       "          [0.0874, 0.0687, 0.0795,  ..., 0.0836, 0.0832, 0.0901]],\n",
       "\n",
       "         [[0.0889, 0.0443, 0.0474,  ..., 0.0783, 0.0811, 0.0705],\n",
       "          [0.0708, 0.1521, 0.1337,  ..., 0.0822, 0.0761, 0.0756],\n",
       "          [0.0914, 0.0672, 0.0817,  ..., 0.0737, 0.0750, 0.0861],\n",
       "          ...,\n",
       "          [0.0845, 0.0943, 0.1342,  ..., 0.0673, 0.0674, 0.1122],\n",
       "          [0.1029, 0.0715, 0.0912,  ..., 0.0591, 0.0700, 0.0977],\n",
       "          [0.0884, 0.0844, 0.0809,  ..., 0.0762, 0.0842, 0.0875]],\n",
       "\n",
       "         [[0.1047, 0.0768, 0.0874,  ..., 0.0744, 0.0659, 0.1225],\n",
       "          [0.0621, 0.0787, 0.0668,  ..., 0.0847, 0.1144, 0.0456],\n",
       "          [0.0826, 0.0770, 0.0869,  ..., 0.0896, 0.0786, 0.0710],\n",
       "          ...,\n",
       "          [0.0626, 0.1003, 0.1123,  ..., 0.1025, 0.0724, 0.0610],\n",
       "          [0.0672, 0.0844, 0.0594,  ..., 0.0828, 0.1190, 0.0637],\n",
       "          [0.1511, 0.0476, 0.0740,  ..., 0.0605, 0.0521, 0.1385]]],\n",
       "\n",
       "\n",
       "        [[[0.0930, 0.0759, 0.0912,  ..., 0.0853, 0.0797, 0.0856],\n",
       "          [0.0870, 0.0895, 0.0895,  ..., 0.0844, 0.0820, 0.0815],\n",
       "          [0.0856, 0.0757, 0.0847,  ..., 0.0914, 0.0841, 0.0783],\n",
       "          ...,\n",
       "          [0.0590, 0.1247, 0.0645,  ..., 0.0742, 0.0941, 0.0708],\n",
       "          [0.0858, 0.0852, 0.0824,  ..., 0.0794, 0.0858, 0.0797],\n",
       "          [0.0753, 0.0899, 0.0871,  ..., 0.0961, 0.0790, 0.0849]],\n",
       "\n",
       "         [[0.0870, 0.0782, 0.1144,  ..., 0.0924, 0.0625, 0.0855],\n",
       "          [0.1249, 0.0777, 0.1047,  ..., 0.0639, 0.0964, 0.0655],\n",
       "          [0.0642, 0.1054, 0.0541,  ..., 0.0659, 0.1112, 0.0781],\n",
       "          ...,\n",
       "          [0.0843, 0.0777, 0.1011,  ..., 0.0867, 0.0779, 0.0856],\n",
       "          [0.1417, 0.0799, 0.1003,  ..., 0.0515, 0.1168, 0.0566],\n",
       "          [0.0644, 0.0903, 0.0627,  ..., 0.0834, 0.0882, 0.0878]],\n",
       "\n",
       "         [[0.0792, 0.0941, 0.0812,  ..., 0.0957, 0.1003, 0.0923],\n",
       "          [0.0880, 0.1078, 0.0852,  ..., 0.0988, 0.0861, 0.0998],\n",
       "          [0.0821, 0.0745, 0.0872,  ..., 0.0807, 0.0726, 0.0791],\n",
       "          ...,\n",
       "          [0.0727, 0.0543, 0.0883,  ..., 0.0742, 0.0737, 0.0696],\n",
       "          [0.0888, 0.1266, 0.0779,  ..., 0.0992, 0.0927, 0.1013],\n",
       "          [0.0820, 0.0652, 0.0794,  ..., 0.0659, 0.0746, 0.0693]],\n",
       "\n",
       "         [[0.0883, 0.0969, 0.0766,  ..., 0.0660, 0.0932, 0.0654],\n",
       "          [0.0791, 0.0814, 0.0980,  ..., 0.0822, 0.0875, 0.0850],\n",
       "          [0.0976, 0.0887, 0.0679,  ..., 0.0836, 0.0893, 0.0689],\n",
       "          ...,\n",
       "          [0.0769, 0.0638, 0.0768,  ..., 0.0918, 0.0693, 0.0798],\n",
       "          [0.0877, 0.0901, 0.0835,  ..., 0.0799, 0.0905, 0.0786],\n",
       "          [0.0840, 0.0940, 0.0916,  ..., 0.0801, 0.0913, 0.0891]]],\n",
       "\n",
       "\n",
       "        [[[0.0947, 0.0824, 0.0972,  ..., 0.0838, 0.0831, 0.0743],\n",
       "          [0.0744, 0.0781, 0.0845,  ..., 0.0898, 0.0856, 0.0927],\n",
       "          [0.0566, 0.0941, 0.0910,  ..., 0.0688, 0.0930, 0.1006],\n",
       "          ...,\n",
       "          [0.0759, 0.1070, 0.0773,  ..., 0.0592, 0.0844, 0.0833],\n",
       "          [0.0831, 0.0866, 0.0942,  ..., 0.0803, 0.0861, 0.0778],\n",
       "          [0.0786, 0.0836, 0.0882,  ..., 0.0825, 0.0856, 0.0880]],\n",
       "\n",
       "         [[0.0806, 0.0940, 0.0841,  ..., 0.0830, 0.0815, 0.0791],\n",
       "          [0.0844, 0.0700, 0.0623,  ..., 0.0732, 0.0804, 0.0933],\n",
       "          [0.0775, 0.1009, 0.0981,  ..., 0.0917, 0.0824, 0.0712],\n",
       "          ...,\n",
       "          [0.0936, 0.0715, 0.0697,  ..., 0.0635, 0.0828, 0.1092],\n",
       "          [0.0869, 0.0703, 0.0707,  ..., 0.0612, 0.0830, 0.1077],\n",
       "          [0.0900, 0.0637, 0.0644,  ..., 0.0611, 0.0827, 0.1119]],\n",
       "\n",
       "         [[0.0799, 0.0800, 0.0798,  ..., 0.0913, 0.0880, 0.0807],\n",
       "          [0.0897, 0.0796, 0.0797,  ..., 0.0855, 0.0788, 0.0667],\n",
       "          [0.0867, 0.0630, 0.0852,  ..., 0.0907, 0.0779, 0.0788],\n",
       "          ...,\n",
       "          [0.0883, 0.0926, 0.0893,  ..., 0.0682, 0.0657, 0.0932],\n",
       "          [0.0792, 0.0988, 0.0796,  ..., 0.0930, 0.0811, 0.0899],\n",
       "          [0.0828, 0.0886, 0.0841,  ..., 0.0876, 0.0754, 0.0920]],\n",
       "\n",
       "         [[0.0853, 0.0849, 0.0822,  ..., 0.0833, 0.0854, 0.0807],\n",
       "          [0.0959, 0.0762, 0.0850,  ..., 0.0842, 0.0933, 0.0802],\n",
       "          [0.0700, 0.0701, 0.0864,  ..., 0.0868, 0.0901, 0.0966],\n",
       "          ...,\n",
       "          [0.0669, 0.0761, 0.0812,  ..., 0.0876, 0.0852, 0.0938],\n",
       "          [0.1068, 0.0851, 0.0862,  ..., 0.0774, 0.0829, 0.0727],\n",
       "          [0.0795, 0.0964, 0.1085,  ..., 0.0596, 0.0656, 0.0800]]]],\n",
       "       grad_fn=<SoftmaxBackward0>)"
      ]
     },
     "execution_count": 50,
     "metadata": {},
     "output_type": "execute_result"
    }
   ],
   "source": [
    "attention_score"
   ]
  },
  {
   "cell_type": "code",
   "execution_count": 52,
   "metadata": {},
   "outputs": [],
   "source": [
    "# (B,H,T,T) @ (B,H,T,D) = (B,H,T,D)\n",
    "x_temp = attention_score @ v"
   ]
  },
  {
   "cell_type": "code",
   "execution_count": 75,
   "metadata": {},
   "outputs": [],
   "source": [
    "import torch.nn as nn\n",
    "import torch.nn.functional as F\n",
    "\n",
    "class MultiHeadSA(nn.Module):\n",
    "    # constructor\n",
    "    def __init__(self, n_heads, d_model, input_dim):  \n",
    "        super().__init__()    \n",
    "        assert d_model % n_heads == 0 , \"Invalid head_size for the given d_model\"\n",
    "        self.n_heads = n_heads\n",
    "        self.d_model = d_model\n",
    "        self.head_size = d_model // n_heads\n",
    "        self.input_dim = input_dim\n",
    "        self.qkv_proj = nn.Linear(input_dim, 3 * d_model)\n",
    "        self.linear = nn.Linear(d_model, d_model)\n",
    "    \n",
    "    def forward(self, X, mask = None):\n",
    "        B, T, C = X.shape\n",
    "        assert C == self.input_dim, \"Input dimension does not match the model input dimension\"\n",
    "        qkv = self.qkv_proj(X)                                    # (B,T,3*D)\n",
    "        qkv = qkv.reshape(B, T, self.n_heads, 3 * self.d_model // self.n_heads)\n",
    "        qkv = qkv.permute(0,2,1,3)\n",
    "        q, k, v = torch.chunk(qkv, 3, dim=-1)\n",
    "        if mask is None:\n",
    "            attention_score = torch.softmax(q @ k.transpose(-2, -1) / (self.head_size ** 0.5), dim=-1)\n",
    "        else:\n",
    "            attention_score = torch.softmax(q @ k.transpose(-2, -1) / (self.head_size ** 0.5) + mask, dim=-1)\n",
    "        res = attention_score @ v                                       # (B,H,T,head_size)\n",
    "        res = res.permute(0,2,1,3).reshape(B, T, self.d_model)   \n",
    "        res = self.linear(res)\n",
    "\n",
    "        return res               \n"
   ]
  },
  {
   "cell_type": "code",
   "execution_count": 76,
   "metadata": {},
   "outputs": [
    {
     "data": {
      "text/plain": [
       "tensor([[[-0.1187, -0.0802,  0.2717,  ...,  0.1765, -0.3697, -0.1359],\n",
       "         [-0.1015, -0.1298,  0.3504,  ...,  0.2256, -0.3271, -0.2016],\n",
       "         [-0.1035, -0.0761,  0.2271,  ...,  0.2417, -0.4300, -0.1929],\n",
       "         [-0.0803, -0.0485,  0.2259,  ...,  0.2825, -0.3690, -0.0985],\n",
       "         [-0.0925, -0.0296,  0.2512,  ...,  0.1752, -0.3954, -0.1690]],\n",
       "\n",
       "        [[-0.0430, -0.0092, -0.1581,  ..., -0.0421,  0.1594, -0.2107],\n",
       "         [ 0.0212, -0.0127, -0.2500,  ...,  0.0011,  0.1214, -0.3348],\n",
       "         [-0.0139,  0.0245, -0.2587,  ..., -0.1047,  0.1383, -0.3125],\n",
       "         [ 0.0167, -0.0491, -0.2390,  ...,  0.0016,  0.1532, -0.1549],\n",
       "         [-0.0440, -0.0100, -0.2521,  ..., -0.0383,  0.1960, -0.2637]],\n",
       "\n",
       "        [[ 0.0695,  0.0823,  0.0430,  ...,  0.0030,  0.0080, -0.1310],\n",
       "         [-0.0080,  0.0683, -0.0282,  ..., -0.0559,  0.0234, -0.0781],\n",
       "         [ 0.0118,  0.0380, -0.0590,  ..., -0.0470,  0.0515, -0.0642],\n",
       "         [ 0.0229,  0.0035, -0.0518,  ..., -0.0286,  0.0356, -0.1156],\n",
       "         [ 0.0477,  0.0388, -0.0289,  ...,  0.0006,  0.1058, -0.0427]],\n",
       "\n",
       "        ...,\n",
       "\n",
       "        [[ 0.1162,  0.0168,  0.0849,  ..., -0.0364, -0.1802, -0.0156],\n",
       "         [-0.0091,  0.0194,  0.0736,  ..., -0.1016, -0.0600,  0.0144],\n",
       "         [ 0.1410,  0.0090,  0.0858,  ..., -0.1455, -0.1743,  0.0052],\n",
       "         [ 0.0583, -0.0750,  0.0189,  ..., -0.1378, -0.1130,  0.0996],\n",
       "         [ 0.1134,  0.0108,  0.0508,  ..., -0.1773, -0.1033,  0.0882]],\n",
       "\n",
       "        [[ 0.0497,  0.0175, -0.3789,  ...,  0.0498,  0.2974, -0.2464],\n",
       "         [-0.0073,  0.1050, -0.3256,  ..., -0.0141,  0.2536, -0.0975],\n",
       "         [ 0.1206,  0.0181, -0.1904,  ...,  0.0348,  0.1069, -0.0016],\n",
       "         [ 0.1352, -0.0356, -0.2872,  ...,  0.0786,  0.2299, -0.1914],\n",
       "         [ 0.0494,  0.0431, -0.3594,  ...,  0.0297,  0.2277, -0.1861]],\n",
       "\n",
       "        [[-0.2044,  0.1394,  0.0324,  ..., -0.0675, -0.1394,  0.2464],\n",
       "         [-0.1576,  0.1522,  0.1076,  ..., -0.0308, -0.1427,  0.3599],\n",
       "         [-0.1520,  0.1745,  0.0569,  ..., -0.0507, -0.2009,  0.3217],\n",
       "         [-0.2034,  0.1473,  0.0251,  ..., -0.1296, -0.1930,  0.2791],\n",
       "         [-0.1918,  0.1755,  0.1233,  ..., -0.0370, -0.2373,  0.2756]]],\n",
       "       grad_fn=<ViewBackward0>)"
      ]
     },
     "execution_count": 76,
     "metadata": {},
     "output_type": "execute_result"
    }
   ],
   "source": [
    "input_dim = 1024\n",
    "d_model = 512\n",
    "num_heads = 8\n",
    "\n",
    "batch_size = 30\n",
    "sequence_length = 5\n",
    "x = torch.randn( (batch_size, sequence_length, input_dim) )\n",
    "x.shape\n",
    "model = MultiHeadSA(num_heads, d_model, input_dim)\n",
    "out = model.forward(x)\n",
    "out"
   ]
  },
  {
   "cell_type": "code",
   "execution_count": null,
   "metadata": {},
   "outputs": [],
   "source": []
  }
 ],
 "metadata": {
  "kernelspec": {
   "display_name": "Python 3",
   "language": "python",
   "name": "python3"
  },
  "language_info": {
   "codemirror_mode": {
    "name": "ipython",
    "version": 3
   },
   "file_extension": ".py",
   "mimetype": "text/x-python",
   "name": "python",
   "nbconvert_exporter": "python",
   "pygments_lexer": "ipython3",
   "version": "3.12.4"
  }
 },
 "nbformat": 4,
 "nbformat_minor": 2
}
